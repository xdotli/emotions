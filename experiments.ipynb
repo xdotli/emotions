{
 "cells": [
  {
   "cell_type": "code",
   "execution_count": 2,
   "id": "e9349459-0cbe-4d3a-91a4-edc83abe9521",
   "metadata": {},
   "outputs": [],
   "source": [
    "path = '/Users/lixiangyi/Downloads/IEMOCAP_full_release'"
   ]
  },
  {
   "cell_type": "code",
   "execution_count": 6,
   "id": "9123e01c-7430-40a7-a6a6-bbb88ffd5099",
   "metadata": {},
   "outputs": [],
   "source": [
    "import os\n",
    "\n",
    "# List the directory tree structure\n",
    "directory_tree = []\n",
    "for root, dirs, files in os.walk(path):\n",
    "    # Create an indentation for each level of depth\n",
    "    level = root.replace(path, '').count(os.sep)\n",
    "    indent = ' ' * 4 * level\n",
    "    directory_tree.append(f\"{indent}{os.path.basename(root)}/\")\n",
    "    sub_indent = ' ' * 4 * (level + 1)\n",
    "    for file in files:\n",
    "        directory_tree.append(f\"{sub_indent}{file}\")\n",
    "\n",
    "# Display the directory tree\n",
    "output_file_path = 'IEMOCAP_directory_tree_structure.txt'\n",
    "\n",
    "# Write the directory tree to the file\n",
    "with open(output_file_path, 'w') as f:\n",
    "    for line in directory_tree:\n",
    "        f.write(line + '\\n')\n"
   ]
  },
  {
   "cell_type": "code",
   "execution_count": null,
   "id": "9f883703-87f7-4acf-81fa-6c47c5f0f831",
   "metadata": {},
   "outputs": [],
   "source": []
  }
 ],
 "metadata": {
  "kernelspec": {
   "display_name": "Python 3 (ipykernel)",
   "language": "python",
   "name": "python3"
  },
  "language_info": {
   "codemirror_mode": {
    "name": "ipython",
    "version": 3
   },
   "file_extension": ".py",
   "mimetype": "text/x-python",
   "name": "python",
   "nbconvert_exporter": "python",
   "pygments_lexer": "ipython3",
   "version": "3.12.4"
  }
 },
 "nbformat": 4,
 "nbformat_minor": 5
}
